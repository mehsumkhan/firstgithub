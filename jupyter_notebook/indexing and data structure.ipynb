{
 "cells": [
  {
   "cell_type": "markdown",
   "id": "49dd8bc2",
   "metadata": {},
   "source": [
    "# -indexing"
   ]
  },
  {
   "cell_type": "code",
   "execution_count": 1,
   "id": "22de032f",
   "metadata": {},
   "outputs": [
    {
     "data": {
      "text/plain": [
       "'samosa Pakora'"
      ]
     },
     "execution_count": 1,
     "metadata": {},
     "output_type": "execute_result"
    }
   ],
   "source": [
    "#make a string\n",
    "a = \"samosa Pakora\"\n",
    "a"
   ]
  },
  {
   "cell_type": "code",
   "execution_count": 2,
   "id": "277d9fbc",
   "metadata": {},
   "outputs": [
    {
     "data": {
      "text/plain": [
       "'samosa Pakora'"
      ]
     },
     "execution_count": 2,
     "metadata": {},
     "output_type": "execute_result"
    }
   ],
   "source": [
    "a"
   ]
  },
  {
   "cell_type": "code",
   "execution_count": 3,
   "id": "8326cb81",
   "metadata": {},
   "outputs": [
    {
     "data": {
      "text/plain": [
       "'s'"
      ]
     },
     "execution_count": 3,
     "metadata": {},
     "output_type": "execute_result"
    }
   ],
   "source": [
    "a[0]"
   ]
  },
  {
   "cell_type": "code",
   "execution_count": 4,
   "id": "547f0e18",
   "metadata": {},
   "outputs": [
    {
     "data": {
      "text/plain": [
       "'s'"
      ]
     },
     "execution_count": 4,
     "metadata": {},
     "output_type": "execute_result"
    }
   ],
   "source": [
    "a[4]"
   ]
  },
  {
   "cell_type": "code",
   "execution_count": 5,
   "id": "d2334158",
   "metadata": {},
   "outputs": [
    {
     "data": {
      "text/plain": [
       "'P'"
      ]
     },
     "execution_count": 5,
     "metadata": {},
     "output_type": "execute_result"
    }
   ],
   "source": [
    "a[7]"
   ]
  },
  {
   "cell_type": "code",
   "execution_count": 6,
   "id": "ed21f12c",
   "metadata": {},
   "outputs": [
    {
     "data": {
      "text/plain": [
       "13"
      ]
     },
     "execution_count": 6,
     "metadata": {},
     "output_type": "execute_result"
    }
   ],
   "source": [
    "#length of indices\n",
    "len(a)"
   ]
  },
  {
   "cell_type": "code",
   "execution_count": 7,
   "id": "a168de90",
   "metadata": {},
   "outputs": [
    {
     "data": {
      "text/plain": [
       "'a'"
      ]
     },
     "execution_count": 7,
     "metadata": {},
     "output_type": "execute_result"
    }
   ],
   "source": [
    "a[12]"
   ]
  },
  {
   "cell_type": "code",
   "execution_count": 8,
   "id": "ff605311",
   "metadata": {},
   "outputs": [
    {
     "data": {
      "text/plain": [
       "'a'"
      ]
     },
     "execution_count": 8,
     "metadata": {},
     "output_type": "execute_result"
    }
   ],
   "source": [
    "a[0-5]"
   ]
  },
  {
   "cell_type": "code",
   "execution_count": 9,
   "id": "cfd3ee06",
   "metadata": {},
   "outputs": [
    {
     "data": {
      "text/plain": [
       "'samosa'"
      ]
     },
     "execution_count": 9,
     "metadata": {},
     "output_type": "execute_result"
    }
   ],
   "source": [
    "#last index is exclusive\n",
    "a[0:6]"
   ]
  },
  {
   "cell_type": "code",
   "execution_count": 10,
   "id": "3e7e2f3d",
   "metadata": {},
   "outputs": [
    {
     "data": {
      "text/plain": [
       "'s'"
      ]
     },
     "execution_count": 10,
     "metadata": {},
     "output_type": "execute_result"
    }
   ],
   "source": [
    "a[0:6-7:12]"
   ]
  },
  {
   "cell_type": "code",
   "execution_count": 11,
   "id": "f05ee5c3",
   "metadata": {},
   "outputs": [
    {
     "data": {
      "text/plain": [
       "'P'"
      ]
     },
     "execution_count": 11,
     "metadata": {},
     "output_type": "execute_result"
    }
   ],
   "source": [
    "a[-6]"
   ]
  },
  {
   "cell_type": "code",
   "execution_count": 12,
   "id": "08c0c54b",
   "metadata": {},
   "outputs": [
    {
     "data": {
      "text/plain": [
       "''"
      ]
     },
     "execution_count": 12,
     "metadata": {},
     "output_type": "execute_result"
    }
   ],
   "source": [
    "a[-1:-6]"
   ]
  },
  {
   "cell_type": "code",
   "execution_count": 13,
   "id": "7457a750",
   "metadata": {},
   "outputs": [
    {
     "data": {
      "text/plain": [
       "'Pako'"
      ]
     },
     "execution_count": 13,
     "metadata": {},
     "output_type": "execute_result"
    }
   ],
   "source": [
    "a[-6:-2]\n"
   ]
  },
  {
   "cell_type": "code",
   "execution_count": 14,
   "id": "9904fd66",
   "metadata": {},
   "outputs": [
    {
     "data": {
      "text/plain": [
       "''"
      ]
     },
     "execution_count": 14,
     "metadata": {},
     "output_type": "execute_result"
    }
   ],
   "source": [
    "a[-6:0]"
   ]
  },
  {
   "cell_type": "code",
   "execution_count": 15,
   "id": "ea6e13a3",
   "metadata": {},
   "outputs": [
    {
     "data": {
      "text/plain": [
       "''"
      ]
     },
     "execution_count": 15,
     "metadata": {},
     "output_type": "execute_result"
    }
   ],
   "source": [
    "a[-6:1]"
   ]
  },
  {
   "cell_type": "code",
   "execution_count": 16,
   "id": "15340e4a",
   "metadata": {},
   "outputs": [
    {
     "data": {
      "text/plain": [
       "'Pakor'"
      ]
     },
     "execution_count": 16,
     "metadata": {},
     "output_type": "execute_result"
    }
   ],
   "source": [
    "a[-6:-1]\n"
   ]
  },
  {
   "cell_type": "code",
   "execution_count": 17,
   "id": "315f988a",
   "metadata": {},
   "outputs": [
    {
     "data": {
      "text/plain": [
       "'Pakora'"
      ]
     },
     "execution_count": 17,
     "metadata": {},
     "output_type": "execute_result"
    }
   ],
   "source": [
    "a[-6:13]"
   ]
  },
  {
   "cell_type": "code",
   "execution_count": 18,
   "id": "3a2e9f37",
   "metadata": {},
   "outputs": [
    {
     "data": {
      "text/plain": [
       "'Briyani'"
      ]
     },
     "execution_count": 18,
     "metadata": {},
     "output_type": "execute_result"
    }
   ],
   "source": [
    "food = \"Briyani\"\n",
    "food"
   ]
  },
  {
   "cell_type": "code",
   "execution_count": 19,
   "id": "d3b9f71e",
   "metadata": {},
   "outputs": [
    {
     "data": {
      "text/plain": [
       "7"
      ]
     },
     "execution_count": 19,
     "metadata": {},
     "output_type": "execute_result"
    }
   ],
   "source": [
    "len(food)"
   ]
  },
  {
   "cell_type": "code",
   "execution_count": 20,
   "id": "89387bc7",
   "metadata": {},
   "outputs": [
    {
     "data": {
      "text/plain": [
       "'BRIYANI'"
      ]
     },
     "execution_count": 20,
     "metadata": {},
     "output_type": "execute_result"
    }
   ],
   "source": [
    "food.upper()"
   ]
  },
  {
   "cell_type": "code",
   "execution_count": 21,
   "id": "3dc9ab89",
   "metadata": {},
   "outputs": [
    {
     "data": {
      "text/plain": [
       "'briyani'"
      ]
     },
     "execution_count": 21,
     "metadata": {},
     "output_type": "execute_result"
    }
   ],
   "source": [
    "food.lower()"
   ]
  },
  {
   "cell_type": "code",
   "execution_count": 22,
   "id": "396acfc1",
   "metadata": {},
   "outputs": [
    {
     "data": {
      "text/plain": [
       "'Shriyani'"
      ]
     },
     "execution_count": 22,
     "metadata": {},
     "output_type": "execute_result"
    }
   ],
   "source": [
    "food.replace(\"Br\", \"Shr\")"
   ]
  },
  {
   "cell_type": "code",
   "execution_count": 23,
   "id": "b4ce66d4",
   "metadata": {},
   "outputs": [
    {
     "data": {
      "text/plain": [
       "'baba_aamar with Dr Aamar tufail'"
      ]
     },
     "execution_count": 23,
     "metadata": {},
     "output_type": "execute_result"
    }
   ],
   "source": [
    "name = \"baba_aamar with Dr Aamar tufail\"\n",
    "name"
   ]
  },
  {
   "cell_type": "code",
   "execution_count": 24,
   "id": "01c8e0c6",
   "metadata": {},
   "outputs": [
    {
     "data": {
      "text/plain": [
       "1"
      ]
     },
     "execution_count": 24,
     "metadata": {},
     "output_type": "execute_result"
    }
   ],
   "source": [
    "name.count(\"A\")"
   ]
  },
  {
   "cell_type": "code",
   "execution_count": 25,
   "id": "3e67acf6",
   "metadata": {},
   "outputs": [
    {
     "data": {
      "text/plain": [
       "2"
      ]
     },
     "execution_count": 25,
     "metadata": {},
     "output_type": "execute_result"
    }
   ],
   "source": [
    "name.count(\"b\")"
   ]
  },
  {
   "cell_type": "markdown",
   "id": "c226b7f3",
   "metadata": {},
   "source": [
    "### -finding on index number in string"
   ]
  },
  {
   "cell_type": "code",
   "execution_count": 26,
   "id": "d0a08ce6",
   "metadata": {},
   "outputs": [
    {
     "data": {
      "text/plain": [
       "'baba_aamar with Dr Aamar tufail'"
      ]
     },
     "execution_count": 26,
     "metadata": {},
     "output_type": "execute_result"
    }
   ],
   "source": [
    "name = \"baba_aamar with Dr Aamar tufail\"\n",
    "name"
   ]
  },
  {
   "cell_type": "code",
   "execution_count": 27,
   "id": "63dcc7ee",
   "metadata": {},
   "outputs": [
    {
     "data": {
      "text/plain": [
       "5"
      ]
     },
     "execution_count": 27,
     "metadata": {},
     "output_type": "execute_result"
    }
   ],
   "source": [
    "name.find(\"aa\")"
   ]
  },
  {
   "cell_type": "code",
   "execution_count": 28,
   "id": "bc78c6c0",
   "metadata": {},
   "outputs": [],
   "source": [
    "## -how to split a string\n",
    "food = \"I love samosa, pakora, raita, briyani and karahi\""
   ]
  },
  {
   "cell_type": "code",
   "execution_count": 29,
   "id": "f141ed3d",
   "metadata": {},
   "outputs": [
    {
     "data": {
      "text/plain": [
       "['I', 'love', 'samosa,', 'pakora,', 'raita,', 'briyani', 'and', 'karahi']"
      ]
     },
     "execution_count": 29,
     "metadata": {},
     "output_type": "execute_result"
    }
   ],
   "source": [
    "food.split()"
   ]
  },
  {
   "cell_type": "code",
   "execution_count": 30,
   "id": "113d507f",
   "metadata": {},
   "outputs": [
    {
     "data": {
      "text/plain": [
       "['I love samosa, pakora, raita, briyani and karahi']"
      ]
     },
     "execution_count": 30,
     "metadata": {},
     "output_type": "execute_result"
    }
   ],
   "source": [
    "food.splitlines()"
   ]
  },
  {
   "cell_type": "code",
   "execution_count": 31,
   "id": "1c062b7a",
   "metadata": {},
   "outputs": [
    {
     "data": {
      "text/plain": [
       "['I love samosa', ' pakora', ' raita', ' briyani and karahi']"
      ]
     },
     "execution_count": 31,
     "metadata": {},
     "output_type": "execute_result"
    }
   ],
   "source": [
    "food.split(\",\")"
   ]
  },
  {
   "cell_type": "markdown",
   "id": "ac3e2f44",
   "metadata": {},
   "source": [
    "### ***Basic data Structure in Python***\n",
    "#### **1-Tuples**\n",
    "#### **2-List**\n",
    "#### **3-Dictionaries**\n",
    "#### **4-Set**"
   ]
  },
  {
   "cell_type": "markdown",
   "id": "5df0e0e1",
   "metadata": {},
   "source": [
    "## 1-Tuple\n",
    "- ordered collection of elements\n",
    "- enclosed in() round braces/paranthesis\n",
    "- different kind of elements can be stored\n",
    "- once elements are stored, cannot change them/unmutated"
   ]
  },
  {
   "cell_type": "code",
   "execution_count": 32,
   "id": "aeb6a008",
   "metadata": {},
   "outputs": [
    {
     "data": {
      "text/plain": [
       "(1, 'python', True, 2.5)"
      ]
     },
     "execution_count": 32,
     "metadata": {},
     "output_type": "execute_result"
    }
   ],
   "source": [
    "#tuple1\n",
    "Tupl = (1,\"python\", True, 2.5)\n",
    "Tupl"
   ]
  },
  {
   "cell_type": "code",
   "execution_count": 33,
   "id": "49b81f0f",
   "metadata": {},
   "outputs": [
    {
     "data": {
      "text/plain": [
       "tuple"
      ]
     },
     "execution_count": 33,
     "metadata": {},
     "output_type": "execute_result"
    }
   ],
   "source": [
    "#type of a tuple\n",
    "type(Tupl)"
   ]
  },
  {
   "cell_type": "markdown",
   "id": "942ee1c6",
   "metadata": {},
   "source": [
    "### -Method of indexing in tuple"
   ]
  },
  {
   "cell_type": "code",
   "execution_count": 34,
   "id": "384c0bac",
   "metadata": {
    "scrolled": true
   },
   "outputs": [
    {
     "data": {
      "text/plain": [
       "'python'"
      ]
     },
     "execution_count": 34,
     "metadata": {},
     "output_type": "execute_result"
    }
   ],
   "source": [
    "Tupl[1]"
   ]
  },
  {
   "cell_type": "code",
   "execution_count": 35,
   "id": "21e83e0b",
   "metadata": {},
   "outputs": [
    {
     "data": {
      "text/plain": [
       "1"
      ]
     },
     "execution_count": 35,
     "metadata": {},
     "output_type": "execute_result"
    }
   ],
   "source": [
    "Tupl[0]"
   ]
  },
  {
   "cell_type": "code",
   "execution_count": 36,
   "id": "9f38c797",
   "metadata": {},
   "outputs": [
    {
     "data": {
      "text/plain": [
       "4"
      ]
     },
     "execution_count": 36,
     "metadata": {},
     "output_type": "execute_result"
    }
   ],
   "source": [
    "#counts of elements in tuple\n",
    "len(Tupl)"
   ]
  },
  {
   "cell_type": "code",
   "execution_count": 37,
   "id": "ed5c1166",
   "metadata": {},
   "outputs": [
    {
     "data": {
      "text/plain": [
       "(1, 'python', True, 2.5)"
      ]
     },
     "execution_count": 37,
     "metadata": {},
     "output_type": "execute_result"
    }
   ],
   "source": [
    "Tupl[0:4]"
   ]
  },
  {
   "cell_type": "code",
   "execution_count": 38,
   "id": "b5f5f61f",
   "metadata": {},
   "outputs": [
    {
     "data": {
      "text/plain": [
       "(1, 'python')"
      ]
     },
     "execution_count": 38,
     "metadata": {},
     "output_type": "execute_result"
    }
   ],
   "source": [
    "#last element is exclusive\n",
    "Tupl[0:2]"
   ]
  },
  {
   "cell_type": "code",
   "execution_count": 39,
   "id": "44f79733",
   "metadata": {},
   "outputs": [
    {
     "data": {
      "text/plain": [
       "(0, 'Ayesha', 3.5, False)"
      ]
     },
     "execution_count": 39,
     "metadata": {},
     "output_type": "execute_result"
    }
   ],
   "source": [
    "#tuple2\n",
    "tup2 = (0, \"Ayesha\", 3.5, False)\n",
    "tup2"
   ]
  },
  {
   "cell_type": "code",
   "execution_count": 40,
   "id": "a166228d",
   "metadata": {},
   "outputs": [
    {
     "data": {
      "text/plain": [
       "(1, 'python', True, 2.5, 0, 'Ayesha', 3.5, False)"
      ]
     },
     "execution_count": 40,
     "metadata": {},
     "output_type": "execute_result"
    }
   ],
   "source": [
    "#concatenation of 2 tuples (add 2 or more than 2 tuples)\n",
    "Tupl + tup2"
   ]
  },
  {
   "cell_type": "code",
   "execution_count": 41,
   "id": "a2d4f34c",
   "metadata": {},
   "outputs": [
    {
     "data": {
      "text/plain": [
       "(1, 'python', True, 2.5, 1, 'python', True, 2.5, 0, 'Ayesha', 3.5, False)"
      ]
     },
     "execution_count": 41,
     "metadata": {},
     "output_type": "execute_result"
    }
   ],
   "source": [
    "#string repetition and concatination\n",
    "Tupl*2 + tup2"
   ]
  },
  {
   "cell_type": "code",
   "execution_count": 45,
   "id": "4a31441a",
   "metadata": {
    "scrolled": true
   },
   "outputs": [
    {
     "data": {
      "text/plain": [
       "(10, 25, 66, 18, 25, 80)"
      ]
     },
     "execution_count": 45,
     "metadata": {},
     "output_type": "execute_result"
    }
   ],
   "source": [
    "#tuple3\n",
    "tup3 = (10, 25, 66, 18, 25, 80)\n",
    "tup3"
   ]
  },
  {
   "cell_type": "code",
   "execution_count": 46,
   "id": "0258289b",
   "metadata": {},
   "outputs": [
    {
     "data": {
      "text/plain": [
       "10"
      ]
     },
     "execution_count": 46,
     "metadata": {},
     "output_type": "execute_result"
    }
   ],
   "source": [
    "#minimum amount in tuple3\n",
    "min(tup3)"
   ]
  },
  {
   "cell_type": "code",
   "execution_count": 47,
   "id": "6f3aa596",
   "metadata": {},
   "outputs": [
    {
     "data": {
      "text/plain": [
       "80"
      ]
     },
     "execution_count": 47,
     "metadata": {},
     "output_type": "execute_result"
    }
   ],
   "source": [
    "#maximum\n",
    "max(tup3)"
   ]
  },
  {
   "cell_type": "markdown",
   "id": "12b8dbc9",
   "metadata": {},
   "source": [
    "---"
   ]
  },
  {
   "cell_type": "markdown",
   "id": "3b260f23",
   "metadata": {},
   "source": [
    " ## **2-List**\n",
    "- ordered collection of elements\n",
    "- enclosed in [ ] sqaure brackets\n",
    "- Mutatable, you can change the values"
   ]
  },
  {
   "cell_type": "code",
   "execution_count": 50,
   "id": "08cc97d6",
   "metadata": {},
   "outputs": [
    {
     "data": {
      "text/plain": [
       "[0, 'Ayesha', False]"
      ]
     },
     "execution_count": 50,
     "metadata": {},
     "output_type": "execute_result"
    }
   ],
   "source": [
    "list1 = [0, \"Ayesha\", False]\n",
    "list1"
   ]
  },
  {
   "cell_type": "code",
   "execution_count": 51,
   "id": "c21afd66",
   "metadata": {},
   "outputs": [
    {
     "data": {
      "text/plain": [
       "list"
      ]
     },
     "execution_count": 51,
     "metadata": {},
     "output_type": "execute_result"
    }
   ],
   "source": [
    "type(list1)"
   ]
  },
  {
   "cell_type": "code",
   "execution_count": 52,
   "id": "8a7642a6",
   "metadata": {},
   "outputs": [
    {
     "data": {
      "text/plain": [
       "3"
      ]
     },
     "execution_count": 52,
     "metadata": {},
     "output_type": "execute_result"
    }
   ],
   "source": [
    "len(list1)"
   ]
  },
  {
   "cell_type": "code",
   "execution_count": 54,
   "id": "782f0fba",
   "metadata": {},
   "outputs": [
    {
     "data": {
      "text/plain": [
       "False"
      ]
     },
     "execution_count": 54,
     "metadata": {},
     "output_type": "execute_result"
    }
   ],
   "source": [
    "list1[2]"
   ]
  },
  {
   "cell_type": "code",
   "execution_count": 56,
   "id": "4dc4c1ec",
   "metadata": {},
   "outputs": [
    {
     "data": {
      "text/plain": [
       "[3, 5, 'Ayesha', 'Codanics', 480, False, 3.5]"
      ]
     },
     "execution_count": 56,
     "metadata": {},
     "output_type": "execute_result"
    }
   ],
   "source": [
    "list2 =[3, 5, \"Ayesha\", \"Codanics\", 480, False, 3.5]\n",
    "list2"
   ]
  },
  {
   "cell_type": "code",
   "execution_count": 57,
   "id": "c9885b92",
   "metadata": {},
   "outputs": [
    {
     "data": {
      "text/plain": [
       "[0, 'Ayesha', False, 3, 5, 'Ayesha', 'Codanics', 480, False, 3.5]"
      ]
     },
     "execution_count": 57,
     "metadata": {},
     "output_type": "execute_result"
    }
   ],
   "source": [
    "list1 + list2"
   ]
  },
  {
   "cell_type": "code",
   "execution_count": 58,
   "id": "939f1a09",
   "metadata": {},
   "outputs": [
    {
     "data": {
      "text/plain": [
       "[3,\n",
       " 5,\n",
       " 'Ayesha',\n",
       " 'Codanics',\n",
       " 480,\n",
       " False,\n",
       " 3.5,\n",
       " 3,\n",
       " 5,\n",
       " 'Ayesha',\n",
       " 'Codanics',\n",
       " 480,\n",
       " False,\n",
       " 3.5]"
      ]
     },
     "execution_count": 58,
     "metadata": {},
     "output_type": "execute_result"
    }
   ],
   "source": [
    "list2*2"
   ]
  },
  {
   "cell_type": "code",
   "execution_count": 61,
   "id": "eda9d414",
   "metadata": {},
   "outputs": [
    {
     "data": {
      "text/plain": [
       "[False, 'Ayesha', 0]"
      ]
     },
     "execution_count": 61,
     "metadata": {},
     "output_type": "execute_result"
    }
   ],
   "source": [
    "list1.reverse()\n",
    "list1"
   ]
  },
  {
   "cell_type": "code",
   "execution_count": 65,
   "id": "975711b6",
   "metadata": {},
   "outputs": [
    {
     "data": {
      "text/plain": [
       "[100, False, 'Ayesha', 0]"
      ]
     },
     "execution_count": 65,
     "metadata": {},
     "output_type": "execute_result"
    }
   ],
   "source": [
    "list1.insert(0, 100)\n",
    "list1"
   ]
  },
  {
   "cell_type": "code",
   "execution_count": 68,
   "id": "29aa5fe4",
   "metadata": {},
   "outputs": [
    {
     "data": {
      "text/plain": [
       "[0, 1, 2]"
      ]
     },
     "execution_count": 68,
     "metadata": {},
     "output_type": "execute_result"
    }
   ],
   "source": [
    "l= list(range(3))\n",
    "l"
   ]
  },
  {
   "cell_type": "code",
   "execution_count": 76,
   "id": "fe681ff7",
   "metadata": {},
   "outputs": [
    {
     "data": {
      "text/plain": [
       "[100, False, 'Ayesha', 0, 0, 0, 1, 'MashaaAllah']"
      ]
     },
     "execution_count": 76,
     "metadata": {},
     "output_type": "execute_result"
    }
   ],
   "source": [
    "list1.append(\"MashaaAllah\")\n",
    "list1"
   ]
  },
  {
   "cell_type": "code",
   "execution_count": 86,
   "id": "c939309d",
   "metadata": {},
   "outputs": [
    {
     "data": {
      "text/plain": [
       "[100, False, 'Ayesha']"
      ]
     },
     "execution_count": 86,
     "metadata": {},
     "output_type": "execute_result"
    }
   ],
   "source": [
    "\n",
    "list1 = [100, False, \"Ayesha\"]\n",
    "list1"
   ]
  },
  {
   "cell_type": "code",
   "execution_count": 87,
   "id": "c271d404",
   "metadata": {},
   "outputs": [
    {
     "data": {
      "text/plain": [
       "[False, 'Ayesha']"
      ]
     },
     "execution_count": 87,
     "metadata": {},
     "output_type": "execute_result"
    }
   ],
   "source": [
    "list1.remove(100)\n",
    "list1"
   ]
  },
  {
   "cell_type": "code",
   "execution_count": 88,
   "id": "f030aa48",
   "metadata": {},
   "outputs": [
    {
     "data": {
      "text/plain": [
       "[False, 'Ayesha', 'keep it up']"
      ]
     },
     "execution_count": 88,
     "metadata": {},
     "output_type": "execute_result"
    }
   ],
   "source": [
    "list1.append(\"keep it up\")\n",
    "list1"
   ]
  },
  {
   "cell_type": "code",
   "execution_count": 94,
   "id": "1a2dd8cd",
   "metadata": {},
   "outputs": [
    {
     "data": {
      "text/plain": [
       "[False, 'Ayesha', 'keep it up']"
      ]
     },
     "execution_count": 94,
     "metadata": {},
     "output_type": "execute_result"
    }
   ],
   "source": [
    "list1"
   ]
  },
  {
   "cell_type": "code",
   "execution_count": 99,
   "id": "bc19cacd",
   "metadata": {},
   "outputs": [
    {
     "data": {
      "text/plain": [
       "0"
      ]
     },
     "execution_count": 99,
     "metadata": {},
     "output_type": "execute_result"
    }
   ],
   "source": [
    "False_count = list1.count('False')\n",
    "False_count"
   ]
  },
  {
   "cell_type": "code",
   "execution_count": 100,
   "id": "411d22c3",
   "metadata": {},
   "outputs": [
    {
     "data": {
      "text/plain": [
       "1"
      ]
     },
     "execution_count": 100,
     "metadata": {},
     "output_type": "execute_result"
    }
   ],
   "source": [
    "#list1.count() function is used to count how many times a string or element is used in the list\n",
    "l = list1.count('Ayesha')\n",
    "l"
   ]
  },
  {
   "cell_type": "code",
   "execution_count": 101,
   "id": "f91840cc",
   "metadata": {},
   "outputs": [
    {
     "data": {
      "text/plain": [
       "1"
      ]
     },
     "execution_count": 101,
     "metadata": {},
     "output_type": "execute_result"
    }
   ],
   "source": [
    "l = list1.count('keep it up')\n",
    "l"
   ]
  },
  {
   "cell_type": "code",
   "execution_count": 102,
   "id": "8337df9d",
   "metadata": {},
   "outputs": [
    {
     "data": {
      "text/plain": [
       "[False, 'Ayesha', 'keep it up']"
      ]
     },
     "execution_count": 102,
     "metadata": {},
     "output_type": "execute_result"
    }
   ],
   "source": [
    "list1"
   ]
  },
  {
   "cell_type": "code",
   "execution_count": 104,
   "id": "b43ed509",
   "metadata": {},
   "outputs": [
    {
     "data": {
      "text/plain": [
       "(0, 'True', 'codanics', 'learner', 'True', 'codes', 'codanics', 'True')"
      ]
     },
     "execution_count": 104,
     "metadata": {},
     "output_type": "execute_result"
    }
   ],
   "source": [
    "list2 =(0, \"True\", \"codanics\", \"learner\", \"True\", \"codes\", \"codanics\", \"True\" )\n",
    "list2"
   ]
  },
  {
   "cell_type": "code",
   "execution_count": 105,
   "id": "69f5e2f3",
   "metadata": {},
   "outputs": [
    {
     "data": {
      "text/plain": [
       "3"
      ]
     },
     "execution_count": 105,
     "metadata": {},
     "output_type": "execute_result"
    }
   ],
   "source": [
    "l2 = list2.count('True')\n",
    "l2"
   ]
  },
  {
   "cell_type": "code",
   "execution_count": 107,
   "id": "2f7dba08",
   "metadata": {},
   "outputs": [
    {
     "data": {
      "text/plain": [
       "[0, 10, 20, 12, 8, 77, 90, 55, 25, 23, 15]"
      ]
     },
     "execution_count": 107,
     "metadata": {},
     "output_type": "execute_result"
    }
   ],
   "source": [
    "list3 = [0, 10, 20 , 12, 8, 77, 90, 55, 25, 23, 15]\n",
    "list3"
   ]
  },
  {
   "cell_type": "code",
   "execution_count": 109,
   "id": "d83e58fb",
   "metadata": {},
   "outputs": [
    {
     "data": {
      "text/plain": [
       "11"
      ]
     },
     "execution_count": 109,
     "metadata": {},
     "output_type": "execute_result"
    }
   ],
   "source": [
    "len(list3)"
   ]
  },
  {
   "cell_type": "code",
   "execution_count": 110,
   "id": "dde0f6bd",
   "metadata": {},
   "outputs": [
    {
     "data": {
      "text/plain": [
       "[0, 8, 10, 12, 15, 20, 23, 25, 55, 77, 90]"
      ]
     },
     "execution_count": 110,
     "metadata": {},
     "output_type": "execute_result"
    }
   ],
   "source": [
    "#sorting a list\n",
    "list3.sort()\n",
    "list3"
   ]
  },
  {
   "cell_type": "code",
   "execution_count": 112,
   "id": "8a5456ad",
   "metadata": {},
   "outputs": [
    {
     "data": {
      "text/plain": [
       "30.454545454545453"
      ]
     },
     "execution_count": 112,
     "metadata": {},
     "output_type": "execute_result"
    }
   ],
   "source": [
    "#calculate mean of the list3 elements\n",
    "mean = sum(list3) / len(list3)\n",
    "mean"
   ]
  },
  {
   "cell_type": "markdown",
   "id": "b9d6cd72",
   "metadata": {},
   "source": [
    "----"
   ]
  },
  {
   "cell_type": "markdown",
   "id": "a6e7c7fd",
   "metadata": {},
   "source": [
    "## **Dictionaries**\n",
    "- An unordered collection of elements\n",
    "- Key & Value\n",
    "- Curly brackets {}\n",
    "- Mutatable/Change the values"
   ]
  },
  {
   "cell_type": "code",
   "execution_count": 116,
   "id": "317bd22d",
   "metadata": {},
   "outputs": [
    {
     "data": {
      "text/plain": [
       "{'samosa': 20, 'pakora': 200, 'raita': 10, 'salad': 50, 'chickenrolls': 100}"
      ]
     },
     "execution_count": 116,
     "metadata": {},
     "output_type": "execute_result"
    }
   ],
   "source": [
    "#Food and their prices\n",
    "food1 = {\"samosa\":20, \"pakora\":200, \"raita\":10, \"salad\":50, \"chickenrolls\":100}\n",
    "food1"
   ]
  },
  {
   "cell_type": "code",
   "execution_count": 118,
   "id": "82544b3b",
   "metadata": {},
   "outputs": [
    {
     "data": {
      "text/plain": [
       "dict"
      ]
     },
     "execution_count": 118,
     "metadata": {},
     "output_type": "execute_result"
    }
   ],
   "source": [
    "type(food1)"
   ]
  },
  {
   "cell_type": "code",
   "execution_count": 120,
   "id": "4327cccb",
   "metadata": {},
   "outputs": [
    {
     "data": {
      "text/plain": [
       "dict_keys(['samosa', 'pakora', 'raita', 'salad', 'chickenrolls'])"
      ]
     },
     "execution_count": 120,
     "metadata": {},
     "output_type": "execute_result"
    }
   ],
   "source": [
    "#extract data\n",
    "keys1 = food1.keys()\n",
    "keys1"
   ]
  },
  {
   "cell_type": "code",
   "execution_count": 121,
   "id": "357c3c8f",
   "metadata": {},
   "outputs": [
    {
     "data": {
      "text/plain": [
       "dict_values([20, 200, 10, 50, 100])"
      ]
     },
     "execution_count": 121,
     "metadata": {},
     "output_type": "execute_result"
    }
   ],
   "source": [
    "value1 = food1.values()\n",
    "value1"
   ]
  },
  {
   "cell_type": "code",
   "execution_count": 122,
   "id": "611b7c1f",
   "metadata": {},
   "outputs": [
    {
     "data": {
      "text/plain": [
       "{'samosa': 20,\n",
       " 'pakora': 200,\n",
       " 'raita': 10,\n",
       " 'salad': 50,\n",
       " 'chickenrolls': 100,\n",
       " 'Tikki': 15}"
      ]
     },
     "execution_count": 122,
     "metadata": {},
     "output_type": "execute_result"
    }
   ],
   "source": [
    "#adding new element\n",
    "food1[\"Tikki\"]=15\n",
    "food1"
   ]
  },
  {
   "cell_type": "code",
   "execution_count": 123,
   "id": "937317df",
   "metadata": {},
   "outputs": [
    {
     "data": {
      "text/plain": [
       "{'samosa': 20,\n",
       " 'pakora': 200,\n",
       " 'raita': 10,\n",
       " 'salad': 50,\n",
       " 'chickenrolls': 100,\n",
       " 'Tikki': 12}"
      ]
     },
     "execution_count": 123,
     "metadata": {},
     "output_type": "execute_result"
    }
   ],
   "source": [
    "#update the values\n",
    "food1[\"Tikki\"]=12\n",
    "food1"
   ]
  },
  {
   "cell_type": "code",
   "execution_count": 124,
   "id": "3217243a",
   "metadata": {},
   "outputs": [
    {
     "data": {
      "text/plain": [
       "{'Dates': 200, 'chocolate': 500, 'vermicelli': 1000}"
      ]
     },
     "execution_count": 124,
     "metadata": {},
     "output_type": "execute_result"
    }
   ],
   "source": [
    "food2 = {\"Dates\":200, \"chocolate\":500, \"vermicelli\": 1000}\n",
    "food2"
   ]
  },
  {
   "cell_type": "code",
   "execution_count": 129,
   "id": "4282390e",
   "metadata": {},
   "outputs": [],
   "source": [
    "#adding both dictionaries\n",
    "food1.update(food2)\n"
   ]
  },
  {
   "cell_type": "code",
   "execution_count": 130,
   "id": "c8ec54ad",
   "metadata": {},
   "outputs": [
    {
     "data": {
      "text/plain": [
       "{'samosa': 20,\n",
       " 'pakora': 200,\n",
       " 'raita': 10,\n",
       " 'salad': 50,\n",
       " 'chickenrolls': 100,\n",
       " 'Tikki': 12,\n",
       " 'Dates': 200,\n",
       " 'chocolate': 500,\n",
       " 'vermicelli': 1000}"
      ]
     },
     "execution_count": 130,
     "metadata": {},
     "output_type": "execute_result"
    }
   ],
   "source": [
    "food1"
   ]
  },
  {
   "cell_type": "markdown",
   "id": "423c50c6",
   "metadata": {},
   "source": [
    "---"
   ]
  },
  {
   "cell_type": "markdown",
   "id": "85391aa9",
   "metadata": {},
   "source": [
    "## **Sets**\n",
    "- Unordered & Unindexed\n",
    "- Curly brackets are used { }\n",
    "- No duplicates are allowed"
   ]
  },
  {
   "cell_type": "code",
   "execution_count": 137,
   "id": "b2f9a25b",
   "metadata": {},
   "outputs": [
    {
     "data": {
      "text/plain": [
       "{2, 3.4, 4, 'Aamar', 'Codanics', 'Faisalabad', False, True}"
      ]
     },
     "execution_count": 137,
     "metadata": {},
     "output_type": "execute_result"
    }
   ],
   "source": [
    "s1 = {2, 3.4, 4, \"Aamar\", \"Codanics\", \"Faisalabad\", True, False}\n",
    "s1"
   ]
  },
  {
   "cell_type": "code",
   "execution_count": 136,
   "id": "8e1c9ac0",
   "metadata": {},
   "outputs": [
    {
     "data": {
      "text/plain": [
       "{2, 3.4, 4, 'Aamar', 'Aamar1', 'Codanics', 'Faisalabad', True}"
      ]
     },
     "execution_count": 136,
     "metadata": {},
     "output_type": "execute_result"
    }
   ],
   "source": [
    "s1.add(\"Aamar1\")\n",
    "s1"
   ]
  },
  {
   "cell_type": "code",
   "execution_count": 139,
   "id": "997cf3e5",
   "metadata": {},
   "outputs": [
    {
     "data": {
      "text/plain": [
       "{2, 3.4, 4, 'Aamar', 'Codanics', 'Faisalabad', True}"
      ]
     },
     "execution_count": 139,
     "metadata": {},
     "output_type": "execute_result"
    }
   ],
   "source": [
    "s1.remove(False)\n",
    "s1"
   ]
  },
  {
   "cell_type": "code",
   "execution_count": 143,
   "id": "d73cceef",
   "metadata": {},
   "outputs": [
    {
     "data": {
      "text/plain": [
       "{44, 'fun'}"
      ]
     },
     "execution_count": 143,
     "metadata": {},
     "output_type": "execute_result"
    }
   ],
   "source": [
    "s2 = {44, \"fun\"}\n",
    "s2 "
   ]
  },
  {
   "cell_type": "code",
   "execution_count": 144,
   "id": "aa7672ac",
   "metadata": {},
   "outputs": [
    {
     "data": {
      "text/plain": [
       "{2, 3.4, 4, 44, 'Aamar', 'Codanics', 'Faisalabad', True, 'fun'}"
      ]
     },
     "execution_count": 144,
     "metadata": {},
     "output_type": "execute_result"
    }
   ],
   "source": [
    "s1.union(s2)"
   ]
  }
 ],
 "metadata": {
  "kernelspec": {
   "display_name": "Python 3 (ipykernel)",
   "language": "python",
   "name": "python3"
  },
  "language_info": {
   "codemirror_mode": {
    "name": "ipython",
    "version": 3
   },
   "file_extension": ".py",
   "mimetype": "text/x-python",
   "name": "python",
   "nbconvert_exporter": "python",
   "pygments_lexer": "ipython3",
   "version": "3.9.7"
  }
 },
 "nbformat": 4,
 "nbformat_minor": 5
}
