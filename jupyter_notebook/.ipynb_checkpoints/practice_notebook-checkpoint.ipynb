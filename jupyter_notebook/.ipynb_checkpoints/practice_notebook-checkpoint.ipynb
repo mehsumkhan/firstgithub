{
 "cells": [
  {
   "cell_type": "markdown",
   "id": "ab3a339f",
   "metadata": {},
   "source": [
    "# Python ka Chilla with baba_aamar\n",
    "## How to use Jupyter Note book\n",
    "## Our basics of Python\n",
    "### **01- My first program**"
   ]
  },
  {
   "cell_type": "code",
   "execution_count": 1,
   "id": "40b21167",
   "metadata": {},
   "outputs": [
    {
     "name": "stdout",
     "output_type": "stream",
     "text": [
      "5\n",
      "Hello_World\n",
      "we are learning python with aamar\n"
     ]
    }
   ],
   "source": [
    "print(2+3)\n",
    "print(\"Hello_World\")\n",
    "print(\"we are learning python with aamar\")"
   ]
  },
  {
   "cell_type": "markdown",
   "id": "cbdee467",
   "metadata": {},
   "source": [
    "### **02- operators**"
   ]
  },
  {
   "cell_type": "code",
   "execution_count": 2,
   "id": "3f482d07",
   "metadata": {},
   "outputs": [
    {
     "name": "stdout",
     "output_type": "stream",
     "text": [
      "5\n",
      "2\n",
      "20\n",
      "2.5\n",
      "1\n",
      "2\n",
      "1024\n",
      "-1.75\n"
     ]
    }
   ],
   "source": [
    "print(2+3)\n",
    "print(3-1)\n",
    "print(5*4)\n",
    "print(10/4)\n",
    "print(5%4)\n",
    "print(10//4)\n",
    "print(4**5)\n",
    "\n",
    "print(3**2/2*3/+6-4) "
   ]
  },
  {
   "cell_type": "markdown",
   "id": "1342131a",
   "metadata": {},
   "source": [
    "*PEMDAS\n",
    "prenthesis exponents multiply didvide addition subtraction\n",
    "left to right sequence for M D & A S*"
   ]
  },
  {
   "cell_type": "markdown",
   "id": "85c7a33c",
   "metadata": {},
   "source": [
    "### **03- strings**"
   ]
  },
  {
   "cell_type": "code",
   "execution_count": 3,
   "id": "69747680",
   "metadata": {},
   "outputs": [
    {
     "name": "stdout",
     "output_type": "stream",
     "text": [
      "we are learning python with aamar\n",
      "hello world\n",
      "test for single quotes\n",
      "test for double quotes\n",
      "test for triple quotes\n",
      "What's up\n"
     ]
    }
   ],
   "source": [
    "print('we are learning python with aamar') #press ctrl+/to comment statement\n",
    "print(\"hello world\")\n",
    "print('test for single quotes')\n",
    "print(\"test for double quotes\")\n",
    "print('''test for triple quotes''')\n",
    "print(\"What's up\")"
   ]
  },
  {
   "cell_type": "markdown",
   "id": "bb15b6f6",
   "metadata": {},
   "source": [
    "### **04- comments in python**\n",
    "the shortcut key to do comment is **ctrl+/**  "
   ]
  },
  {
   "cell_type": "code",
   "execution_count": 4,
   "id": "77265681",
   "metadata": {},
   "outputs": [
    {
     "name": "stdout",
     "output_type": "stream",
     "text": [
      "we are learning python with aamar\n",
      "hello world\n",
      "5\n"
     ]
    }
   ],
   "source": [
    "print('we are learning python with aamar') #press (ctrl+/)to comment out\n",
    "print(\"hello world\") # print a string\n",
    "print (2+3) # to print operators function with numbers"
   ]
  },
  {
   "cell_type": "markdown",
   "id": "9d8afea6",
   "metadata": {},
   "source": [
    "### **05- variables**"
   ]
  },
  {
   "cell_type": "code",
   "execution_count": 5,
   "id": "0fd96846",
   "metadata": {},
   "outputs": [
    {
     "name": "stdout",
     "output_type": "stream",
     "text": [
      "<class 'str'>\n",
      "Mangos\n"
     ]
    }
   ],
   "source": [
    "# # variables: objects specific value\n",
    "# x= 5\n",
    "# print(x)\n",
    "\n",
    "# y=\"we are learning python with aamar\"\n",
    "# print(y)\n",
    "\n",
    "# x= x+10\n",
    "# print(x)\n",
    "\n",
    "\n",
    "# # types of variables\n",
    "# type(x)\n",
    "# print(type(x))\n",
    "\n",
    "# print(type(y))\n",
    "\n",
    "#print_type-class\n",
    "\n",
    "#rules to assign a variables\n",
    "#1 the variables should contain letters, nummbers or underscores\n",
    "#2 do not start with numbers\n",
    "#3 spaces are not allowed\n",
    "#4 do not use keywords used in functions (break, mean, dedia, test , etc)\n",
    "#5 short and descriptive\n",
    "#6 case senstivity (lowercase, upper case letters, lower case lettrs should be used)\n",
    "\n",
    "\n",
    "fruit_basket=8\n",
    "fruit_basket=\"Mangos\"\n",
    "#del fruit_basket\n",
    "print(type(fruit_basket))\n",
    "print(fruit_basket)"
   ]
  },
  {
   "cell_type": "markdown",
   "id": "94008582",
   "metadata": {},
   "source": [
    "### **06- variables**"
   ]
  },
  {
   "cell_type": "code",
   "execution_count": 6,
   "id": "00b39112",
   "metadata": {},
   "outputs": [
    {
     "name": "stdout",
     "output_type": "stream",
     "text": [
      "what is your name? ayesha\n",
      "how old are you? 29\n",
      "Hello ayesha , you are still young!\n"
     ]
    }
   ],
   "source": [
    "# fruit_basket=\"Mangos\"\n",
    "# print(fruit_basket)\n",
    "\n",
    "#input function simple\n",
    "# fruit_basket=input(\"which one is your favourite fruit? \")\n",
    "# print(fruit_basket)\n",
    "\n",
    "#input function of second stage\n",
    "# name=input (\"What is your name? \" )\n",
    "# greetings= (\"Hello\")\n",
    "# print(greetings, name)\n",
    "\n",
    "#another way of stage 2 input funtion\n",
    "# name=input (\"What is your name? \" )\n",
    "# print(\"hallo!\", name)\n",
    "\n",
    "#3rd stage input funtion\n",
    "name=input(\"what is your name? \")\n",
    "name\n",
    "age=input(\"how old are you? \")\n",
    "age\n",
    "greetings= \"Hello\"\n",
    "print(greetings, name, \", you are still young!\")"
   ]
  },
  {
   "cell_type": "markdown",
   "id": "80ade24c",
   "metadata": {},
   "source": [
    "### **07- conditional logics**"
   ]
  },
  {
   "cell_type": "code",
   "execution_count": 7,
   "id": "b0023dee",
   "metadata": {},
   "outputs": [
    {
     "name": "stdout",
     "output_type": "stream",
     "text": [
      "how old is Hammad? 4\n",
      "<class 'str'>\n",
      "False\n"
     ]
    }
   ],
   "source": [
    "# logical operators are either \"true or false\" or \"yes or no\" or \"0 or 1\"\n",
    "# equal to                  ==\n",
    "# not equal to              !=\n",
    "# less than                  <\n",
    "# greater than               >\n",
    "# less than and equal to     <=\n",
    "# greater than and equal to  >=\n",
    "\n",
    "#is 4 is equal to 4 (how to ask python)\n",
    "# print(4==4) #True\n",
    "# print(4!=4) #False\n",
    "# print(4!=4)\n",
    "# print(3<4)  # True\n",
    "# print (3>6)\n",
    "# print(3>=2)\n",
    "\n",
    "#application of logical operators\n",
    "# hammad_age= 4\n",
    "# school_going_age= 5\n",
    "# print(hammad_age==school_going_age)\n",
    "\n",
    "#Input function and logical operator\n",
    "school_going_age= 5\n",
    "hammad_age= input(\"how old is Hammad? \") #input funtion\n",
    "hammad_age=(hammad_age) # Even we put 5 it gives felse as here it took it as string\n",
    "# hammad_age=int(hammad_age)\n",
    "print(type(hammad_age))\n",
    "print(hammad_age==school_going_age)"
   ]
  },
  {
   "cell_type": "markdown",
   "id": "94eba70c",
   "metadata": {},
   "source": [
    "### **08- typeconversion**"
   ]
  },
  {
   "cell_type": "code",
   "execution_count": 8,
   "id": "b646c584",
   "metadata": {},
   "outputs": [
    {
     "name": "stdout",
     "output_type": "stream",
     "text": [
      "What is your age?  29\n",
      "29 <class 'str'>\n"
     ]
    }
   ],
   "source": [
    "x=10      # integer\n",
    "y=10.2    # float\n",
    "z=\"Hello\" #string\n",
    "\n",
    "# print(type(z)) # check the class of variables\n",
    "\n",
    "# implicit type conversion\n",
    "\n",
    "# print(type(x*y)) # whenn multiply integer with float gives float \n",
    "# print(type(x+y)) # whenn add integer with float gives float \n",
    "# x=x+y\n",
    "# print(x, \", type of x is \", type(x))\n",
    "\n",
    "# #  explicit type conversion\n",
    "age=input(\"What is your age?  \")\n",
    "#age=int(age)\n",
    "print(age, type(age))\n",
    "#print(age, type(int(age)))\n",
    "\n",
    "\n",
    "# name=input(\"What is your name?  \")\n",
    "# print(name, type(str(age)))"
   ]
  },
  {
   "cell_type": "markdown",
   "id": "a4573728",
   "metadata": {},
   "source": [
    "### **09- if_else_elif**"
   ]
  },
  {
   "cell_type": "code",
   "execution_count": 9,
   "id": "f260b7ff",
   "metadata": {},
   "outputs": [
    {
     "name": "stdout",
     "output_type": "stream",
     "text": [
      "hammad can jain higher class!\n"
     ]
    }
   ],
   "source": [
    "Hammad_age= 10\n",
    "school_going_age= 5\n",
    "\n",
    "\n",
    "# Question: can hammad go to school?\n",
    "\n",
    "if Hammad_age==school_going_age:\n",
    "    print(\"hammad can join school!\")\n",
    "elif Hammad_age>school_going_age:\n",
    "    print(\"hammad can jain higher class!\")\n",
    "else:\n",
    "     print(\"hammad cannot go to school\")"
   ]
  },
  {
   "cell_type": "markdown",
   "id": "69eda8a1",
   "metadata": {},
   "source": [
    "### **10- functions**"
   ]
  },
  {
   "cell_type": "code",
   "execution_count": 10,
   "id": "5471add6",
   "metadata": {},
   "outputs": [
    {
     "name": "stdout",
     "output_type": "stream",
     "text": [
      "hammad cannot go to school\n",
      "38\n"
     ]
    }
   ],
   "source": [
    "#definig a function\n",
    "#1\n",
    "# def print_codanics():\n",
    "#     print(\"we are learning with aammar\")\n",
    "#     print(\"we are learning with aammar\")\n",
    "#     print(\"we are learning with aammar\")\n",
    "# print_codanics()\n",
    "#2 \n",
    "# def print_codanics():\n",
    "#     text = \"we are learning with aammar\"\n",
    "#     print(text)\n",
    "#     print(text)\n",
    "#     print(text)\n",
    "# print_codanics()\n",
    "\n",
    "#3 \n",
    "# def print_codanics(text):\n",
    "#     print(text)\n",
    "#     print(text)\n",
    "#     print(text)\n",
    "# print_codanics(\"we are learning with ammar in youtube channel\")\n",
    "\n",
    "#definig a function with if, elif and else statement\n",
    "def school_calculator(age,text):\n",
    "    if age == 5:\n",
    "        print(\"hammad can join school!\")\n",
    "    elif age>5:\n",
    "        print(\"hammad can jain higher class!\")\n",
    "    else:\n",
    "        print(\"hammad cannot go to school\")\n",
    "school_calculator(1, \"hammad\")\n",
    "\n",
    "# Definig function of future\n",
    "# def future_age(age):\n",
    "#     new_age = age+20\n",
    "#     return new_age\n",
    "#     print(new_age)\n",
    "# futur_prediction_age = future_age(5)\n",
    "# print(futur_prediction_age)\n",
    "\n",
    "# Definig function of future\n",
    "\n",
    "def future_age(age):\n",
    "    new_age= age +20\n",
    "    return new_age\n",
    "    print(new_age)\n",
    "\n",
    "future_prediction_age= future_age(18)\n",
    "print(future_prediction_age)"
   ]
  },
  {
   "cell_type": "markdown",
   "id": "56ce1d18",
   "metadata": {},
   "source": [
    "### **11- loops**"
   ]
  },
  {
   "cell_type": "code",
   "execution_count": 11,
   "id": "61cd4140",
   "metadata": {},
   "outputs": [
    {
     "name": "stdout",
     "output_type": "stream",
     "text": [
      "Mon\n",
      "Tue\n",
      "Wed\n"
     ]
    }
   ],
   "source": [
    "#while and for loops\n",
    "\n",
    "#while loops\n",
    "# x=0\n",
    "# while(x<5):\n",
    "#     print(x)\n",
    "#     x=x+1\n",
    "\n",
    "# for loops\n",
    "# for x in range(5,10):\n",
    "#     print(x)\n",
    "\n",
    "# array\n",
    "days = [\"Mon\",\"Tue\",\"Wed\",\"Thu\",\"Fri\", \"sat\",\"Sun\"]\n",
    "for i in days:\n",
    "    if i==\"Thu\":break # loop breaks after thu\n",
    "    print(i)"
   ]
  },
  {
   "cell_type": "markdown",
   "id": "d7af45df",
   "metadata": {},
   "source": [
    "### **12- import liberaries**"
   ]
  },
  {
   "cell_type": "code",
   "execution_count": 12,
   "id": "a8bf184b",
   "metadata": {},
   "outputs": [
    {
     "name": "stdout",
     "output_type": "stream",
     "text": [
      "the value of pi   3.141592653589793\n",
      "250\n"
     ]
    }
   ],
   "source": [
    "#if you want to print the value of pi\n",
    "\n",
    "import math\n",
    "print(\"the value of pi  \", math.pi)\n",
    "\n",
    "import statistics\n",
    "x= [100,200,300,400]\n",
    "print(statistics.mean(x))"
   ]
  },
  {
   "cell_type": "markdown",
   "id": "11aa22d6",
   "metadata": {},
   "source": [
    "### **13- trouble shooting**"
   ]
  },
  {
   "cell_type": "code",
   "execution_count": 13,
   "id": "cb87c9ee",
   "metadata": {},
   "outputs": [
    {
     "name": "stdout",
     "output_type": "stream",
     "text": [
      "hello ammar\n",
      "helloammar\n"
     ]
    }
   ],
   "source": [
    "#sytax error\n",
    "#print (we are learning python with aammar) # syntax error\n",
    "#print(25/0) # runtime error\n",
    "\n",
    "name= \"ammar\"\n",
    "\n",
    "#print(\"hello name\")\n",
    "print(\"hello\", name)\n",
    "print(\"hello\"+ name)"
   ]
  }
 ],
 "metadata": {
  "kernelspec": {
   "display_name": "Python 3 (ipykernel)",
   "language": "python",
   "name": "python3"
  },
  "language_info": {
   "codemirror_mode": {
    "name": "ipython",
    "version": 3
   },
   "file_extension": ".py",
   "mimetype": "text/x-python",
   "name": "python",
   "nbconvert_exporter": "python",
   "pygments_lexer": "ipython3",
   "version": "3.9.7"
  }
 },
 "nbformat": 4,
 "nbformat_minor": 5
}
