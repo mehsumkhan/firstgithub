{
 "cells": [
  {
   "cell_type": "code",
   "execution_count": 1,
   "id": "e302fb3f",
   "metadata": {},
   "outputs": [],
   "source": [
    "#Body mass index (BMI)\n",
    "#input weight\n",
    "#Height\n",
    "#BMI (Ask yourself your height)\n",
    "#weight\n",
    "#calculate BMI\n",
    "#print bmi(My name is ... )\n"
   ]
  },
  {
   "cell_type": "code",
   "execution_count": 2,
   "id": "0238e8af",
   "metadata": {},
   "outputs": [
    {
     "name": "stdout",
     "output_type": "stream",
     "text": [
      "what is your height1.77\n"
     ]
    }
   ],
   "source": [
    "Height = input (\"what is your height\")"
   ]
  },
  {
   "cell_type": "code",
   "execution_count": 3,
   "id": "e8c016ae",
   "metadata": {},
   "outputs": [
    {
     "name": "stdout",
     "output_type": "stream",
     "text": [
      "what is your weight88\n"
     ]
    }
   ],
   "source": [
    "Weight = input(\"what is your weight\")\n"
   ]
  },
  {
   "cell_type": "code",
   "execution_count": 8,
   "id": "c06389a1",
   "metadata": {},
   "outputs": [
    {
     "data": {
      "text/plain": [
       "['Height/Weight**2']"
      ]
     },
     "execution_count": 8,
     "metadata": {},
     "output_type": "execute_result"
    }
   ],
   "source": [
    "BMI = [\"Height/Weight**2\"]\n",
    "BMI"
   ]
  },
  {
   "cell_type": "code",
   "execution_count": null,
   "id": "0f1b484f",
   "metadata": {},
   "outputs": [],
   "source": []
  }
 ],
 "metadata": {
  "kernelspec": {
   "display_name": "Python 3 (ipykernel)",
   "language": "python",
   "name": "python3"
  },
  "language_info": {
   "codemirror_mode": {
    "name": "ipython",
    "version": 3
   },
   "file_extension": ".py",
   "mimetype": "text/x-python",
   "name": "python",
   "nbconvert_exporter": "python",
   "pygments_lexer": "ipython3",
   "version": "3.9.7"
  }
 },
 "nbformat": 4,
 "nbformat_minor": 5
}
